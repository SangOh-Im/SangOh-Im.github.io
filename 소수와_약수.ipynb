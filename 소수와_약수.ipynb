{
  "nbformat": 4,
  "nbformat_minor": 0,
  "metadata": {
    "colab": {
      "provenance": [],
      "collapsed_sections": [],
      "authorship_tag": "ABX9TyMdSJgzhJ4mp4LsP+0nM0Dh",
      "include_colab_link": true
    },
    "kernelspec": {
      "name": "python3",
      "display_name": "Python 3"
    },
    "language_info": {
      "name": "python"
    }
  },
  "cells": [
    {
      "cell_type": "markdown",
      "metadata": {
        "id": "view-in-github",
        "colab_type": "text"
      },
      "source": [
        "<a href=\"https://colab.research.google.com/github/SangOh-Im/SangOh-Im.github.io/blob/main/%EC%86%8C%EC%88%98%EC%99%80_%EC%95%BD%EC%88%98.ipynb\" target=\"_parent\"><img src=\"https://colab.research.google.com/assets/colab-badge.svg\" alt=\"Open In Colab\"/></a>"
      ]
    },
    {
      "cell_type": "markdown",
      "source": [
        "# 문제 설명\n",
        "양의 정수가 n개 들어있는 list 형태의 입력 nums가 들어온다. 이 값 중에 3개를 골라 합한 값이 소수인 조합이 몇 개인지 return하는 함수를 만들어라.\n",
        "- programmer 스킬 체크 레벨 1 문제"
      ],
      "metadata": {
        "id": "8oZDWcYq_4rE"
      }
    },
    {
      "cell_type": "code",
      "execution_count": 13,
      "metadata": {
        "colab": {
          "base_uri": "https://localhost:8080/"
        },
        "id": "2ZDFvGEM_wxL",
        "outputId": "26e14b7e-7e58-4561-eb3d-cc9083057e97"
      },
      "outputs": [
        {
          "output_type": "execute_result",
          "data": {
            "text/plain": [
              "3"
            ]
          },
          "metadata": {},
          "execution_count": 13
        }
      ],
      "source": [
        "nums = [1,4,7,9,13] # (1, 7, 9), (1 ,9, 13), (7 ,9, 13)\n",
        "\n",
        "from itertools import combinations\n",
        "\n",
        "def isPrime(a):\n",
        "    if(a<2):\n",
        "        return False\n",
        "    for i in range(2,a):\n",
        "        if(a%i==0):\n",
        "            return False\n",
        "    return True\n",
        "\n",
        "def solution(nums):\n",
        "    answer = 0\n",
        "    nums = list(combinations(nums, 3))\n",
        "    nums_sum = []\n",
        "    for i in range(len(nums)):\n",
        "        nums_sum.append(sum(nums[i]))\n",
        "\n",
        "    for i in range(len(nums_sum)):\n",
        "        if isPrime(nums_sum[i]):\n",
        "            # print(nums_sum[i])\n",
        "            answer += 1\n",
        "\n",
        "    return answer\n",
        "\n",
        "solution(nums)"
      ]
    },
    {
      "cell_type": "markdown",
      "source": [
        "combinations 라이브러리를 통하여 가능한 모든 조합을 구한 후 그 합을 담고 있는 nums_sum을 구했다, 이후에 소수인지 판단하는 isPrime 함수를 만들어 solution 함수를 완성시켰다."
      ],
      "metadata": {
        "id": "EdhoZ-24BLNJ"
      }
    },
    {
      "cell_type": "markdown",
      "source": [
        "# 문제 설명\n",
        "두 개의 양의 정수가 주어진다. 작은 값이 left, 큰 값이 right이다.\n",
        "left부터 right 사이의 정수 각각이 갖는 약수의 개수를 구하라.\n",
        "- programmer 스킬 체크 레벨 1 문제"
      ],
      "metadata": {
        "id": "Iz6y1CZ0BgoB"
      }
    },
    {
      "cell_type": "code",
      "source": [
        "left = 14\n",
        "right = 30\n",
        "\n",
        "def solution(left, right):\n",
        "  answer = []\n",
        "  for n in range(left, right+1):\n",
        "    # 1과 자기자신\n",
        "    cnt = 2\n",
        "    for i in range(2, n):\n",
        "      if(n%i==0):\n",
        "        cnt += 1\n",
        "    answer.append(cnt)\n",
        "\n",
        "  return answer\n",
        "solution(left, right)"
      ],
      "metadata": {
        "colab": {
          "base_uri": "https://localhost:8080/"
        },
        "id": "B1atOiW_Beu4",
        "outputId": "05564432-091f-4463-88e9-7c0df7fad758"
      },
      "execution_count": 5,
      "outputs": [
        {
          "output_type": "execute_result",
          "data": {
            "text/plain": [
              "[4, 4, 5, 2, 6, 2, 6, 4, 4, 2, 8, 3, 4, 4, 6, 2, 8]"
            ]
          },
          "metadata": {},
          "execution_count": 5
        }
      ]
    },
    {
      "cell_type": "code",
      "source": [],
      "metadata": {
        "id": "6vwVk4L5D8r5"
      },
      "execution_count": null,
      "outputs": []
    }
  ]
}