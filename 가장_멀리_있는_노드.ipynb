{
  "nbformat": 4,
  "nbformat_minor": 0,
  "metadata": {
    "colab": {
      "provenance": [],
      "authorship_tag": "ABX9TyOjqTczQ+JQeGWctdlSdB+t",
      "include_colab_link": true
    },
    "kernelspec": {
      "name": "python3",
      "display_name": "Python 3"
    },
    "language_info": {
      "name": "python"
    }
  },
  "cells": [
    {
      "cell_type": "markdown",
      "metadata": {
        "id": "view-in-github",
        "colab_type": "text"
      },
      "source": [
        "<a href=\"https://colab.research.google.com/github/SangOh-Im/SangOh-Im.github.io/blob/main/%EA%B0%80%EC%9E%A5_%EB%A9%80%EB%A6%AC_%EC%9E%88%EB%8A%94_%EB%85%B8%EB%93%9C.ipynb\" target=\"_parent\"><img src=\"https://colab.research.google.com/assets/colab-badge.svg\" alt=\"Open In Colab\"/></a>"
      ]
    },
    {
      "cell_type": "markdown",
      "source": [
        "# 문제 설명\n",
        "n 개의 노드가 있는 그래프가 있다. vertex는 노드 간의 연결을 나타낸 list이다. 이를 통하여 1번 노드에서 가장 멀리 떨어진 노드의 개수를 return하는 함수를 작성하라.\n",
        "- 이 문제는 programmers 고득점 kit 문제입니다.\n",
        "\n"
      ],
      "metadata": {
        "id": "uAuw01LfEgqQ"
      }
    },
    {
      "cell_type": "code",
      "execution_count": 1,
      "metadata": {
        "id": "USpXycj5EcBt"
      },
      "outputs": [],
      "source": [
        "n = 6\n",
        "vertex = [[3, 6], [4, 3], [3, 2], [1, 3], [1, 2], [2, 4], [5, 2]]"
      ]
    },
    {
      "cell_type": "code",
      "source": [
        "from collections import defaultdict\n",
        "\n",
        "def BFS(graph, start, distances):\n",
        "\n",
        "  q = start\n",
        "  visited = set(start)\n",
        "  while len(q):\n",
        "      cur = q.pop(0)\n",
        "\n",
        "      for neighbor in graph[cur]:\n",
        "          if neighbor not in visited:\n",
        "              visited.add(neighbor)\n",
        "              q.append(neighbor)\n",
        "              distances[neighbor] = (distances[cur]+1)\n",
        "\n",
        "\n",
        "def solution(n, edge):\n",
        "  graph = defaultdict(list)\n",
        "  \n",
        "  for e1, e2 in edge:\n",
        "      graph[e1].append(e2)\n",
        "      graph[e2].append(e1)\n",
        "      \n",
        "  distances = [0] * (n+1)\n",
        "  BFS(graph, [1], distances)\n",
        "\n",
        "  answer = 0\n",
        "  for dist in distances:\n",
        "      if dist == max(distances):\n",
        "          answer +=1\n",
        "  return answer\n",
        "  \n",
        "print(solution(n, vertex))"
      ],
      "metadata": {
        "colab": {
          "base_uri": "https://localhost:8080/"
        },
        "id": "NP6MfXn8FJ8G",
        "outputId": "37ad35d6-bfb1-4c7d-ec70-7139105a3f9c"
      },
      "execution_count": 6,
      "outputs": [
        {
          "output_type": "stream",
          "name": "stdout",
          "text": [
            "3\n"
          ]
        }
      ]
    },
    {
      "cell_type": "markdown",
      "source": [
        "defaultdict는 dict value의 데이터 타입을 설정해 줄 수 있다. 만약, value가 없는 key를 만들 경우 자동으로 데이터 타입에 맞는 값을 넣어준다. 예를 들어, int type으로 설정한 경우 자동으로 0을 넣어준다."
      ],
      "metadata": {
        "id": "9FNIqJc5FcTi"
      }
    },
    {
      "cell_type": "code",
      "source": [
        "from collections import defaultdict\n",
        "\n",
        "d_dict = defaultdict(int)\n",
        "d_dict[\"존재하지 않는 키\"]"
      ],
      "metadata": {
        "colab": {
          "base_uri": "https://localhost:8080/"
        },
        "id": "U1IruiKvFP4j",
        "outputId": "b842ff99-c622-43e1-ad60-d7de1c091ce2"
      },
      "execution_count": 10,
      "outputs": [
        {
          "output_type": "execute_result",
          "data": {
            "text/plain": [
              "0"
            ]
          },
          "metadata": {},
          "execution_count": 10
        }
      ]
    },
    {
      "cell_type": "code",
      "source": [],
      "metadata": {
        "id": "mXzvNGJNF4yb"
      },
      "execution_count": null,
      "outputs": []
    }
  ]
}